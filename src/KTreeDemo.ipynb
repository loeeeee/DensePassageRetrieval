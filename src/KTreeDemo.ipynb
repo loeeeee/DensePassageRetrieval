{
 "cells": [
  {
   "cell_type": "code",
   "execution_count": 1,
   "metadata": {},
   "outputs": [
    {
     "name": "stdout",
     "output_type": "stream",
     "text": [
      "10000\n"
     ]
    }
   ],
   "source": [
    "import k_tree_new\n",
    "import json\n",
    "import numpy as np\n",
    "import random\n",
    "import time\n",
    "with open(\"../.data/example_embeddings_10000.json\", \"r\", buffering= 4096) as f:\n",
    "    example_embeddings = json.load(f)\n",
    "print(len(example_embeddings))\n",
    "vectors = random.shuffle(example_embeddings)"
   ]
  },
  {
   "cell_type": "code",
   "execution_count": 2,
   "metadata": {},
   "outputs": [
    {
     "ename": "AttributeError",
     "evalue": "'KTreeBranch' object has no attribute 'update_center_point'",
     "output_type": "error",
     "traceback": [
      "\u001b[0;31m---------------------------------------------------------------------------\u001b[0m",
      "\u001b[0;31mAttributeError\u001b[0m                            Traceback (most recent call last)",
      "Cell \u001b[0;32mIn[2], line 3\u001b[0m\n\u001b[1;32m      1\u001b[0m vectors \u001b[39m=\u001b[39m np\u001b[39m.\u001b[39marray(example_embeddings)\n\u001b[1;32m      2\u001b[0m kt \u001b[39m=\u001b[39m k_tree_new\u001b[39m.\u001b[39mKTree(\u001b[39m3\u001b[39m, vectors, \u001b[39m2\u001b[39m, \u001b[39m10\u001b[39m)\n\u001b[0;32m----> 3\u001b[0m kt\u001b[39m.\u001b[39;49mconstruct()\n",
      "File \u001b[0;32m~/Documents/STATS 402/src/src/k_tree_new.py:33\u001b[0m, in \u001b[0;36mKTree.construct\u001b[0;34m(self)\u001b[0m\n\u001b[1;32m     31\u001b[0m \u001b[39mdef\u001b[39;00m \u001b[39mconstruct\u001b[39m(\u001b[39mself\u001b[39m):\n\u001b[1;32m     32\u001b[0m     leaf_node \u001b[39m=\u001b[39m KTreeLeaf(\u001b[39mself\u001b[39m\u001b[39m.\u001b[39mk, \u001b[39mself\u001b[39m\u001b[39m.\u001b[39mvectors)\n\u001b[0;32m---> 33\u001b[0m     branches \u001b[39m=\u001b[39m leaf_node\u001b[39m.\u001b[39;49mextrusion(\u001b[39mself\u001b[39;49m\u001b[39m.\u001b[39;49mmin_cluster)\n\u001b[1;32m     34\u001b[0m     \u001b[39mself\u001b[39m\u001b[39m.\u001b[39mroot \u001b[39m=\u001b[39m KTreeBranch(child_branches\u001b[39m=\u001b[39mbranches)\n\u001b[1;32m     35\u001b[0m     \u001b[39mfor\u001b[39;00m i \u001b[39min\u001b[39;00m \u001b[39mrange\u001b[39m(\u001b[39mself\u001b[39m\u001b[39m.\u001b[39mdepth\u001b[39m-\u001b[39m\u001b[39m1\u001b[39m): \u001b[39m# Depth minus one because root has one unit of depth\u001b[39;00m\n",
      "File \u001b[0;32m~/Documents/STATS 402/src/src/k_tree_new.py:138\u001b[0m, in \u001b[0;36mKTreeLeaf.extrusion\u001b[0;34m(self, min_cluster, max_iter)\u001b[0m\n\u001b[1;32m    136\u001b[0m isChanged \u001b[39m=\u001b[39m \u001b[39mFalse\u001b[39;00m\n\u001b[1;32m    137\u001b[0m \u001b[39mfor\u001b[39;00m j \u001b[39min\u001b[39;00m leaves:\n\u001b[0;32m--> 138\u001b[0m     \u001b[39mif\u001b[39;00m j\u001b[39m.\u001b[39;49mupdate_center_point():\n\u001b[1;32m    139\u001b[0m         \u001b[39m# If one of the center point changed, continue iteration\u001b[39;00m\n\u001b[1;32m    140\u001b[0m         isChanged \u001b[39m=\u001b[39m \u001b[39mTrue\u001b[39;00m\n\u001b[1;32m    141\u001b[0m \u001b[39mif\u001b[39;00m isChanged \u001b[39m==\u001b[39m \u001b[39mFalse\u001b[39;00m:\n",
      "\u001b[0;31mAttributeError\u001b[0m: 'KTreeBranch' object has no attribute 'update_center_point'"
     ]
    }
   ],
   "source": [
    "vectors = np.array(example_embeddings)\n",
    "kt = k_tree_new.KTree(3, vectors, 2, 10)\n",
    "kt.construct()"
   ]
  },
  {
   "cell_type": "code",
   "execution_count": null,
   "metadata": {},
   "outputs": [
    {
     "name": "stdout",
     "output_type": "stream",
     "text": [
      "Floor 0: 9\n",
      "Floor 1: 0\n"
     ]
    }
   ],
   "source": [
    "kt.print()"
   ]
  },
  {
   "cell_type": "code",
   "execution_count": null,
   "metadata": {},
   "outputs": [],
   "source": [
    "def experiment_search(query):\n",
    "    time_0 = time.time()\n",
    "    result = kt.search(np.array(example_embeddings[0]))\n",
    "    clever_result = []\n",
    "    for i in result:\n",
    "        clever_result.append(np.linalg.norm(query - i))\n",
    "    clever_result = sorted(clever_result)\n",
    "    time_1 = time.time()\n",
    "    print(\"KTreeResult:\")\n",
    "    print(clever_result[:20])\n",
    "    print(f\"Time used: {time_1 - time_0}\")\n",
    "    # Naive:\n",
    "    print(\"Naive result\")\n",
    "    pre_compute_array = [np.array(i) for i in example_embeddings]\n",
    "    time_2 = time.time()\n",
    "    naive_results = [np.linalg.norm(query - np.array(i)) for i in pre_compute_array]\n",
    "    time_3 = time.time()\n",
    "    print(sorted(naive_results)[:20])\n",
    "    print(f\"Time used: {time_3 - time_2}\")\n",
    "    cnt = 0\n",
    "    sliced_clever_result = clever_result[:20]\n",
    "    sliced_naive_result = naive_results[:20]\n",
    "    for i in range(20):\n",
    "        if sliced_clever_result[i] > sliced_naive_result[-1]:\n",
    "            break\n",
    "        for j in range(20):\n",
    "            if round(sliced_clever_result[i], 12) == round(sliced_naive_result[j], 12):\n",
    "                cnt += 1\n",
    "                break\n",
    "    print(f\"Top 20 true positive: {cnt/20*100}%\")\n",
    "    return cnt/20*100"
   ]
  },
  {
   "cell_type": "code",
   "execution_count": null,
   "metadata": {},
   "outputs": [
    {
     "ename": "AttributeError",
     "evalue": "'NoneType' object has no attribute 'vectors'",
     "output_type": "error",
     "traceback": [
      "\u001b[0;31m---------------------------------------------------------------------------\u001b[0m",
      "\u001b[0;31mAttributeError\u001b[0m                            Traceback (most recent call last)",
      "Cell \u001b[0;32mIn[7], line 4\u001b[0m\n\u001b[1;32m      2\u001b[0m \u001b[39mfor\u001b[39;00m i \u001b[39min\u001b[39;00m \u001b[39mrange\u001b[39m(\u001b[39m40\u001b[39m):\n\u001b[1;32m      3\u001b[0m     query \u001b[39m=\u001b[39m np\u001b[39m.\u001b[39marray(example_embeddings[i])\n\u001b[0;32m----> 4\u001b[0m     result \u001b[39m+\u001b[39m\u001b[39m=\u001b[39m experiment_search(query)\n\u001b[1;32m      5\u001b[0m result \u001b[39m=\u001b[39m result \u001b[39m/\u001b[39m \u001b[39m40\u001b[39m\n\u001b[1;32m      6\u001b[0m \u001b[39mprint\u001b[39m(result)\n",
      "Cell \u001b[0;32mIn[6], line 3\u001b[0m, in \u001b[0;36mexperiment_search\u001b[0;34m(query)\u001b[0m\n\u001b[1;32m      1\u001b[0m \u001b[39mdef\u001b[39;00m \u001b[39mexperiment_search\u001b[39m(query):\n\u001b[1;32m      2\u001b[0m     time_0 \u001b[39m=\u001b[39m time\u001b[39m.\u001b[39mtime()\n\u001b[0;32m----> 3\u001b[0m     result \u001b[39m=\u001b[39m kt\u001b[39m.\u001b[39;49msearch(np\u001b[39m.\u001b[39;49marray(example_embeddings[\u001b[39m0\u001b[39;49m]))\n\u001b[1;32m      4\u001b[0m     clever_result \u001b[39m=\u001b[39m []\n\u001b[1;32m      5\u001b[0m     \u001b[39mfor\u001b[39;00m i \u001b[39min\u001b[39;00m result:\n",
      "File \u001b[0;32m~/Documents/STATS 402/src/src/k_tree_new.py:58\u001b[0m, in \u001b[0;36mKTree.search\u001b[0;34m(self, vector)\u001b[0m\n\u001b[1;32m     56\u001b[0m     branches \u001b[39m=\u001b[39m branches[flag]\u001b[39m.\u001b[39mchild_branches\n\u001b[1;32m     57\u001b[0m leaf \u001b[39m=\u001b[39m branches[\u001b[39m0\u001b[39m]\u001b[39m.\u001b[39mchild_leaf\n\u001b[0;32m---> 58\u001b[0m \u001b[39mreturn\u001b[39;00m leaf\u001b[39m.\u001b[39;49mvectors\n",
      "\u001b[0;31mAttributeError\u001b[0m: 'NoneType' object has no attribute 'vectors'"
     ]
    }
   ],
   "source": [
    "result =0\n",
    "for i in range(40):\n",
    "    query = np.array(example_embeddings[i])\n",
    "    result += experiment_search(query)\n",
    "result = result / 40\n",
    "print(result)"
   ]
  },
  {
   "cell_type": "code",
   "execution_count": null,
   "metadata": {},
   "outputs": [
    {
     "name": "stdout",
     "output_type": "stream",
     "text": [
      "Top 10 true positive: 0.0%\n"
     ]
    }
   ],
   "source": [
    "cnt = 0\n",
    "sliced_clever_result = clever_result[:10]\n",
    "sliced_naive_result = naive_results[:10]\n",
    "for i in range(10):\n",
    "    if sliced_clever_result[i] > sliced_naive_result[-1]:\n",
    "        break\n",
    "    for j in range(10):\n",
    "        if round(sliced_clever_result[i], 12) == round(sliced_naive_result[j], 12):\n",
    "            cnt += 1\n",
    "            break\n",
    "print(f\"Top 10 true positive: {cnt/10*100}%\")"
   ]
  },
  {
   "cell_type": "code",
   "execution_count": null,
   "metadata": {},
   "outputs": [
    {
     "name": "stdout",
     "output_type": "stream",
     "text": [
      "Top 20 true positive: 0.0%\n"
     ]
    }
   ],
   "source": []
  },
  {
   "cell_type": "code",
   "execution_count": null,
   "metadata": {},
   "outputs": [
    {
     "name": "stdout",
     "output_type": "stream",
     "text": [
      "Top 50 true positive: 0.0%\n"
     ]
    }
   ],
   "source": [
    "cnt = 0\n",
    "for i in range(50):\n",
    "    if clever_result[i] > naive_results[-1]:\n",
    "        break\n",
    "    for j in range(50):\n",
    "        if clever_result[i] == naive_results[j]:\n",
    "            cnt += 1\n",
    "            break\n",
    "print(f\"Top 50 true positive: {cnt/50*100}%\")"
   ]
  }
 ],
 "metadata": {
  "kernelspec": {
   "display_name": ".env",
   "language": "python",
   "name": "python3"
  },
  "language_info": {
   "codemirror_mode": {
    "name": "ipython",
    "version": 3
   },
   "file_extension": ".py",
   "mimetype": "text/x-python",
   "name": "python",
   "nbconvert_exporter": "python",
   "pygments_lexer": "ipython3",
   "version": "3.11.2"
  },
  "orig_nbformat": 4
 },
 "nbformat": 4,
 "nbformat_minor": 2
}
